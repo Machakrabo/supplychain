{
 "cells": [
  {
   "cell_type": "code",
   "execution_count": 69,
   "id": "a5f3b536-3c46-43b5-ac46-dbbb16ff1807",
   "metadata": {
    "editable": true,
    "slideshow": {
     "slide_type": ""
    },
    "tags": []
   },
   "outputs": [],
   "source": [
    "# pour faire un lien entre le serveur SQL et python voici les étapes suivantes--\n",
    "# installer les packages concernant ce projet\n",
    "#importer des bibliothèques\n",
    "#donner des détails de BD\n",
    "                              "
   ]
  },
  {
   "cell_type": "code",
   "execution_count": 70,
   "id": "5d48840d-2cdb-4e06-a89a-e74c8a1c26c8",
   "metadata": {},
   "outputs": [
    {
     "name": "stdout",
     "output_type": "stream",
     "text": [
      "Requirement already satisfied: pyodbc in c:\\users\\dell\\appdata\\local\\programs\\python\\python310\\lib\\site-packages (5.2.0)\n"
     ]
    },
    {
     "name": "stderr",
     "output_type": "stream",
     "text": [
      "\n",
      "[notice] A new release of pip is available: 25.1.1 -> 25.2\n",
      "[notice] To update, run: python.exe -m pip install --upgrade pip\n"
     ]
    }
   ],
   "source": [
    "!pip install pyodbc"
   ]
  },
  {
   "cell_type": "code",
   "execution_count": 71,
   "id": "6632e532-33a1-4e4f-9eaf-58ccdfb7f893",
   "metadata": {},
   "outputs": [
    {
     "name": "stdout",
     "output_type": "stream",
     "text": [
      "Coucou toute le mondes--\n",
      "Les bibliothèques ont été chargées avec succès.\n"
     ]
    }
   ],
   "source": [
    "import pyodbc\n",
    "import pandas as pd\n",
    "print(\"Coucou toute le mondes--\")\n",
    "print (\"Les bibliothèques sont chargées avec succès.\")"
   ]
  },
  {
   "cell_type": "code",
   "execution_count": 72,
   "id": "6437dd07-176b-4474-87ed-5d7207d8567f",
   "metadata": {},
   "outputs": [
    {
     "name": "stdout",
     "output_type": "stream",
     "text": [
      "Les drivers: ['SQL Server', 'ODBC Driver 17 for SQL Server', 'SQL Server Native Client RDA 11.0']\n"
     ]
    }
   ],
   "source": [
    "print(f\"Les drivers: {pyodbc.drivers()}\")"
   ]
  },
  {
   "cell_type": "code",
   "execution_count": 73,
   "id": "92d6ee22-45cf-4d29-9b19-bbcc1d0c9f66",
   "metadata": {},
   "outputs": [
    {
     "name": "stderr",
     "output_type": "stream",
     "text": [
      "C:\\Users\\DELL\\AppData\\Local\\Temp\\ipykernel_13696\\536539630.py:12: UserWarning: pandas only supports SQLAlchemy connectable (engine/connection) or database string URI or sqlite3 DBAPI2 connection. Other DBAPI2 objects are not tested. Please consider using SQLAlchemy.\n",
      "  df_actuals_qty = pd.read_sql(query, conn)\n"
     ]
    },
    {
     "name": "stdout",
     "output_type": "stream",
     "text": [
      "            dates loc_id  prd_id  actuals_qty           prd_price currency_id  \\\n",
      "0      2023-01-07  10001  BNFJY5        864.0   2.500000000000000           1   \n",
      "1      2023-01-07  10001  CVINS1        648.0   8.500000000000000           1   \n",
      "2      2023-01-07  10001  CVINS2       1512.0   6.500000000000000           1   \n",
      "3      2023-01-07  10001  ERKYE7        270.0   2.900000000000000           1   \n",
      "4      2023-01-07  10001  LKUQW1        180.0  10.000000000000000           1   \n",
      "...           ...    ...     ...          ...                 ...         ...   \n",
      "32312  2025-08-30  10011  WSDCV3        142.0   6.500000000000000           1   \n",
      "32313  2025-08-30  10011  ZDSGJ1        126.0  18.000000000000000           1   \n",
      "32314  2025-08-30  10011  ZDSGJ2        112.0  12.500000000000000           1   \n",
      "32315  2025-08-30  10011  ZDSGJ3        180.0   5.500000000000000           1   \n",
      "32316  2025-08-30  10011  ZDSGJ4        154.0   6.000000000000000           1   \n",
      "\n",
      "       actuals_sales sales_forecast currency_desc  \\\n",
      "0             2592.0           None          Euro   \n",
      "1             5832.0           None          Euro   \n",
      "2            10584.0           None          Euro   \n",
      "3              810.0           None          Euro   \n",
      "4             1800.0           None          Euro   \n",
      "...              ...            ...           ...   \n",
      "32312          994.0           None          Euro   \n",
      "32313         2268.0           None          Euro   \n",
      "32314         1456.0           None          Euro   \n",
      "32315         1080.0           None          Euro   \n",
      "32316          924.0           None          Euro   \n",
      "\n",
      "                                     location_details  ...     prd_size  \\\n",
      "0      11 Rue du Moulin de la Tour, 62560 Dennebr�ucq  ...        50 cl   \n",
      "1      11 Rue du Moulin de la Tour, 62560 Dennebr�ucq  ...      1 glass   \n",
      "2      11 Rue du Moulin de la Tour, 62560 Dennebr�ucq  ...      1 glass   \n",
      "3      11 Rue du Moulin de la Tour, 62560 Dennebr�ucq  ...        50 cl   \n",
      "4      11 Rue du Moulin de la Tour, 62560 Dennebr�ucq  ...       1 bowl   \n",
      "...                                               ...  ...          ...   \n",
      "32312       Chem. de la Diligence, 13760 Saint-Cannat  ...       1 bowl   \n",
      "32313       Chem. de la Diligence, 13760 Saint-Cannat  ...  1 box -9 pc   \n",
      "32314       Chem. de la Diligence, 13760 Saint-Cannat  ...  1 box -9 pc   \n",
      "32315       Chem. de la Diligence, 13760 Saint-Cannat  ...  1 box -3 pc   \n",
      "32316       Chem. de la Diligence, 13760 Saint-Cannat  ...  1 box -3 pc   \n",
      "\n",
      "         prd_sku  prd_family prd_seasons holidays algorithm_forecast  \\\n",
      "0      SKU 90316   Beverages    All Year        1               None   \n",
      "1      SKU 90334  Milkshakes    All Year        1               None   \n",
      "2      SKU 90335  Milkshakes    All Year        1               None   \n",
      "3      SKU 90318   Beverages    All Year        1               None   \n",
      "4      SKU 90322    Desserts    All Year        1               None   \n",
      "...          ...         ...         ...      ...                ...   \n",
      "32312  SKU 90321    Desserts      Summer        0               None   \n",
      "32313  SKU 90324    Desserts    All Year        0               None   \n",
      "32314  SKU 90325    Desserts    All Year        0               None   \n",
      "32315  SKU 90326    Desserts    All Year        0               None   \n",
      "32316  SKU 90327    Desserts    All Year        0               None   \n",
      "\n",
      "       algo_error algo_error_absolute algo_error_squared  \\\n",
      "0            None                None               None   \n",
      "1            None                None               None   \n",
      "2            None                None               None   \n",
      "3            None                None               None   \n",
      "4            None                None               None   \n",
      "...           ...                 ...                ...   \n",
      "32312        None                None               None   \n",
      "32313        None                None               None   \n",
      "32314        None                None               None   \n",
      "32315        None                None               None   \n",
      "32316        None                None               None   \n",
      "\n",
      "              dwh_create_date  \n",
      "0     2025-09-24 18:13:31.970  \n",
      "1     2025-09-24 18:13:31.970  \n",
      "2     2025-09-24 18:13:31.970  \n",
      "3     2025-09-24 18:13:31.970  \n",
      "4     2025-09-24 18:13:31.970  \n",
      "...                       ...  \n",
      "32312 2025-09-24 18:13:31.970  \n",
      "32313 2025-09-24 18:13:31.970  \n",
      "32314 2025-09-24 18:13:31.970  \n",
      "32315 2025-09-24 18:13:31.970  \n",
      "32316 2025-09-24 18:13:31.970  \n",
      "\n",
      "[32317 rows x 22 columns]\n"
     ]
    }
   ],
   "source": [
    "import pyodbc\n",
    "import pandas as pd\n",
    "\n",
    "conn_str = (\n",
    "    r'DRIVER={ODBC Driver 17 for SQL Server};'\n",
    "    r'SERVER=(localdb)\\Mashalocaldb;'\n",
    "    r'DATABASE=MashaDB;'\n",
    "    r'Trusted_Connection=yes;'\n",
    ")\n",
    "conn = pyodbc.connect(conn_str)\n",
    "query = \"SELECT * FROM mashagold.actuals_qty\"\n",
    "df_actuals_qty = pd.read_sql(query, conn)\n",
    "print(df_actuals_qty)\n"
   ]
  },
  {
   "cell_type": "code",
   "execution_count": 74,
   "id": "feb04e94-7027-42b5-b91e-c660624ab3a7",
   "metadata": {},
   "outputs": [],
   "source": [
    "# pour terminer le login il faudra se connecter à votre serveur SQL"
   ]
  },
  {
   "cell_type": "code",
   "execution_count": 75,
   "id": "90b3e102-c000-4aac-9f8a-cbb68b95dbff",
   "metadata": {},
   "outputs": [
    {
     "data": {
      "text/html": [
       "<div>\n",
       "<style scoped>\n",
       "    .dataframe tbody tr th:only-of-type {\n",
       "        vertical-align: middle;\n",
       "    }\n",
       "\n",
       "    .dataframe tbody tr th {\n",
       "        vertical-align: top;\n",
       "    }\n",
       "\n",
       "    .dataframe thead th {\n",
       "        text-align: right;\n",
       "    }\n",
       "</style>\n",
       "<table border=\"1\" class=\"dataframe\">\n",
       "  <thead>\n",
       "    <tr style=\"text-align: right;\">\n",
       "      <th></th>\n",
       "      <th>dates</th>\n",
       "      <th>loc_id</th>\n",
       "      <th>prd_id</th>\n",
       "      <th>actuals_qty</th>\n",
       "      <th>prd_price</th>\n",
       "      <th>currency_id</th>\n",
       "      <th>actuals_sales</th>\n",
       "      <th>sales_forecast</th>\n",
       "      <th>currency_desc</th>\n",
       "      <th>location_details</th>\n",
       "      <th>...</th>\n",
       "      <th>prd_size</th>\n",
       "      <th>prd_sku</th>\n",
       "      <th>prd_family</th>\n",
       "      <th>prd_seasons</th>\n",
       "      <th>holidays</th>\n",
       "      <th>algorithm_forecast</th>\n",
       "      <th>algo_error</th>\n",
       "      <th>algo_error_absolute</th>\n",
       "      <th>algo_error_squared</th>\n",
       "      <th>dwh_create_date</th>\n",
       "    </tr>\n",
       "  </thead>\n",
       "  <tbody>\n",
       "    <tr>\n",
       "      <th>0</th>\n",
       "      <td>2023-01-07</td>\n",
       "      <td>10001</td>\n",
       "      <td>BNFJY5</td>\n",
       "      <td>864.0</td>\n",
       "      <td>2.500000000000000</td>\n",
       "      <td>1</td>\n",
       "      <td>2592.0</td>\n",
       "      <td>None</td>\n",
       "      <td>Euro</td>\n",
       "      <td>11 Rue du Moulin de la Tour, 62560 Dennebr�ucq</td>\n",
       "      <td>...</td>\n",
       "      <td>50 cl</td>\n",
       "      <td>SKU 90316</td>\n",
       "      <td>Beverages</td>\n",
       "      <td>All Year</td>\n",
       "      <td>1</td>\n",
       "      <td>None</td>\n",
       "      <td>None</td>\n",
       "      <td>None</td>\n",
       "      <td>None</td>\n",
       "      <td>2025-09-24 18:13:31.970</td>\n",
       "    </tr>\n",
       "    <tr>\n",
       "      <th>1</th>\n",
       "      <td>2023-01-07</td>\n",
       "      <td>10001</td>\n",
       "      <td>CVINS1</td>\n",
       "      <td>648.0</td>\n",
       "      <td>8.500000000000000</td>\n",
       "      <td>1</td>\n",
       "      <td>5832.0</td>\n",
       "      <td>None</td>\n",
       "      <td>Euro</td>\n",
       "      <td>11 Rue du Moulin de la Tour, 62560 Dennebr�ucq</td>\n",
       "      <td>...</td>\n",
       "      <td>1 glass</td>\n",
       "      <td>SKU 90334</td>\n",
       "      <td>Milkshakes</td>\n",
       "      <td>All Year</td>\n",
       "      <td>1</td>\n",
       "      <td>None</td>\n",
       "      <td>None</td>\n",
       "      <td>None</td>\n",
       "      <td>None</td>\n",
       "      <td>2025-09-24 18:13:31.970</td>\n",
       "    </tr>\n",
       "    <tr>\n",
       "      <th>2</th>\n",
       "      <td>2023-01-07</td>\n",
       "      <td>10001</td>\n",
       "      <td>CVINS2</td>\n",
       "      <td>1512.0</td>\n",
       "      <td>6.500000000000000</td>\n",
       "      <td>1</td>\n",
       "      <td>10584.0</td>\n",
       "      <td>None</td>\n",
       "      <td>Euro</td>\n",
       "      <td>11 Rue du Moulin de la Tour, 62560 Dennebr�ucq</td>\n",
       "      <td>...</td>\n",
       "      <td>1 glass</td>\n",
       "      <td>SKU 90335</td>\n",
       "      <td>Milkshakes</td>\n",
       "      <td>All Year</td>\n",
       "      <td>1</td>\n",
       "      <td>None</td>\n",
       "      <td>None</td>\n",
       "      <td>None</td>\n",
       "      <td>None</td>\n",
       "      <td>2025-09-24 18:13:31.970</td>\n",
       "    </tr>\n",
       "    <tr>\n",
       "      <th>3</th>\n",
       "      <td>2023-01-07</td>\n",
       "      <td>10001</td>\n",
       "      <td>ERKYE7</td>\n",
       "      <td>270.0</td>\n",
       "      <td>2.900000000000000</td>\n",
       "      <td>1</td>\n",
       "      <td>810.0</td>\n",
       "      <td>None</td>\n",
       "      <td>Euro</td>\n",
       "      <td>11 Rue du Moulin de la Tour, 62560 Dennebr�ucq</td>\n",
       "      <td>...</td>\n",
       "      <td>50 cl</td>\n",
       "      <td>SKU 90318</td>\n",
       "      <td>Beverages</td>\n",
       "      <td>All Year</td>\n",
       "      <td>1</td>\n",
       "      <td>None</td>\n",
       "      <td>None</td>\n",
       "      <td>None</td>\n",
       "      <td>None</td>\n",
       "      <td>2025-09-24 18:13:31.970</td>\n",
       "    </tr>\n",
       "    <tr>\n",
       "      <th>4</th>\n",
       "      <td>2023-01-07</td>\n",
       "      <td>10001</td>\n",
       "      <td>LKUQW1</td>\n",
       "      <td>180.0</td>\n",
       "      <td>10.000000000000000</td>\n",
       "      <td>1</td>\n",
       "      <td>1800.0</td>\n",
       "      <td>None</td>\n",
       "      <td>Euro</td>\n",
       "      <td>11 Rue du Moulin de la Tour, 62560 Dennebr�ucq</td>\n",
       "      <td>...</td>\n",
       "      <td>1 bowl</td>\n",
       "      <td>SKU 90322</td>\n",
       "      <td>Desserts</td>\n",
       "      <td>All Year</td>\n",
       "      <td>1</td>\n",
       "      <td>None</td>\n",
       "      <td>None</td>\n",
       "      <td>None</td>\n",
       "      <td>None</td>\n",
       "      <td>2025-09-24 18:13:31.970</td>\n",
       "    </tr>\n",
       "  </tbody>\n",
       "</table>\n",
       "<p>5 rows × 22 columns</p>\n",
       "</div>"
      ],
      "text/plain": [
       "        dates loc_id  prd_id  actuals_qty           prd_price currency_id  \\\n",
       "0  2023-01-07  10001  BNFJY5        864.0   2.500000000000000           1   \n",
       "1  2023-01-07  10001  CVINS1        648.0   8.500000000000000           1   \n",
       "2  2023-01-07  10001  CVINS2       1512.0   6.500000000000000           1   \n",
       "3  2023-01-07  10001  ERKYE7        270.0   2.900000000000000           1   \n",
       "4  2023-01-07  10001  LKUQW1        180.0  10.000000000000000           1   \n",
       "\n",
       "   actuals_sales sales_forecast currency_desc  \\\n",
       "0         2592.0           None          Euro   \n",
       "1         5832.0           None          Euro   \n",
       "2        10584.0           None          Euro   \n",
       "3          810.0           None          Euro   \n",
       "4         1800.0           None          Euro   \n",
       "\n",
       "                                 location_details  ... prd_size    prd_sku  \\\n",
       "0  11 Rue du Moulin de la Tour, 62560 Dennebr�ucq  ...    50 cl  SKU 90316   \n",
       "1  11 Rue du Moulin de la Tour, 62560 Dennebr�ucq  ...  1 glass  SKU 90334   \n",
       "2  11 Rue du Moulin de la Tour, 62560 Dennebr�ucq  ...  1 glass  SKU 90335   \n",
       "3  11 Rue du Moulin de la Tour, 62560 Dennebr�ucq  ...    50 cl  SKU 90318   \n",
       "4  11 Rue du Moulin de la Tour, 62560 Dennebr�ucq  ...   1 bowl  SKU 90322   \n",
       "\n",
       "   prd_family prd_seasons holidays algorithm_forecast  algo_error  \\\n",
       "0   Beverages    All Year        1               None        None   \n",
       "1  Milkshakes    All Year        1               None        None   \n",
       "2  Milkshakes    All Year        1               None        None   \n",
       "3   Beverages    All Year        1               None        None   \n",
       "4    Desserts    All Year        1               None        None   \n",
       "\n",
       "  algo_error_absolute algo_error_squared         dwh_create_date  \n",
       "0                None               None 2025-09-24 18:13:31.970  \n",
       "1                None               None 2025-09-24 18:13:31.970  \n",
       "2                None               None 2025-09-24 18:13:31.970  \n",
       "3                None               None 2025-09-24 18:13:31.970  \n",
       "4                None               None 2025-09-24 18:13:31.970  \n",
       "\n",
       "[5 rows x 22 columns]"
      ]
     },
     "execution_count": 75,
     "metadata": {},
     "output_type": "execute_result"
    }
   ],
   "source": [
    "df_actuals_qty.head()"
   ]
  },
  {
   "cell_type": "code",
   "execution_count": 76,
   "id": "cb2b4f2d-b7c5-458b-be56-a6be525e4b91",
   "metadata": {},
   "outputs": [
    {
     "name": "stdout",
     "output_type": "stream",
     "text": [
      "<class 'pandas.core.frame.DataFrame'>\n",
      "RangeIndex: 32317 entries, 0 to 32316\n",
      "Data columns (total 22 columns):\n",
      " #   Column               Non-Null Count  Dtype         \n",
      "---  ------               --------------  -----         \n",
      " 0   dates                32317 non-null  object        \n",
      " 1   loc_id               32317 non-null  object        \n",
      " 2   prd_id               32317 non-null  object        \n",
      " 3   actuals_qty          32317 non-null  float64       \n",
      " 4   prd_price            32317 non-null  object        \n",
      " 5   currency_id          32317 non-null  object        \n",
      " 6   actuals_sales        32317 non-null  float64       \n",
      " 7   sales_forecast       0 non-null      object        \n",
      " 8   currency_desc        32317 non-null  object        \n",
      " 9   location_details     32317 non-null  object        \n",
      " 10  loc_region           32317 non-null  object        \n",
      " 11  prd_desc             32317 non-null  object        \n",
      " 12  prd_size             32317 non-null  object        \n",
      " 13  prd_sku              32317 non-null  object        \n",
      " 14  prd_family           32317 non-null  object        \n",
      " 15  prd_seasons          32317 non-null  object        \n",
      " 16  holidays             32317 non-null  int64         \n",
      " 17  algorithm_forecast   0 non-null      object        \n",
      " 18  algo_error           0 non-null      object        \n",
      " 19  algo_error_absolute  0 non-null      object        \n",
      " 20  algo_error_squared   0 non-null      object        \n",
      " 21  dwh_create_date      32317 non-null  datetime64[ns]\n",
      "dtypes: datetime64[ns](1), float64(2), int64(1), object(18)\n",
      "memory usage: 5.4+ MB\n"
     ]
    }
   ],
   "source": [
    "df_actuals_qty.info()"
   ]
  },
  {
   "cell_type": "code",
   "execution_count": 77,
   "id": "a6dda433-7e30-4c5f-a03e-28bae6fa7823",
   "metadata": {},
   "outputs": [],
   "source": [
    "#changement du type de les colonnes sales_forecast,algo_error,algo_error_absolute,algo_error_squared, prd_price, currency_id"
   ]
  },
  {
   "cell_type": "code",
   "execution_count": 78,
   "id": "cbce6be3-67f0-48b4-be4e-cf232715c0d0",
   "metadata": {},
   "outputs": [
    {
     "name": "stdout",
     "output_type": "stream",
     "text": [
      "float64\n"
     ]
    }
   ],
   "source": [
    "df_actuals_qty['sales_forecast'] = df_actuals_qty['sales_forecast'].astype(\"float\")\n",
    "print(df_actuals_qty['sales_forecast'].dtype)"
   ]
  },
  {
   "cell_type": "code",
   "execution_count": 79,
   "id": "8e94acaa-b765-4f72-a083-72f2d8e26860",
   "metadata": {},
   "outputs": [
    {
     "name": "stdout",
     "output_type": "stream",
     "text": [
      "float64\n"
     ]
    }
   ],
   "source": [
    "df_actuals_qty['algo_error'] = df_actuals_qty['algo_error'].astype(\"float\")\n",
    "print(df_actuals_qty['algo_error'].dtype)"
   ]
  },
  {
   "cell_type": "code",
   "execution_count": 80,
   "id": "91f3e050-bdd2-4a9d-a4d7-aac4a91967cd",
   "metadata": {},
   "outputs": [
    {
     "name": "stdout",
     "output_type": "stream",
     "text": [
      "float64\n"
     ]
    }
   ],
   "source": [
    "df_actuals_qty['algo_error_absolute'] = df_actuals_qty['algo_error_absolute'].astype(\"float\")\n",
    "print(df_actuals_qty['algo_error_absolute'].dtype)"
   ]
  },
  {
   "cell_type": "code",
   "execution_count": 81,
   "id": "a1b48bb2-609f-42b9-b5b6-349dca2e2864",
   "metadata": {},
   "outputs": [
    {
     "name": "stdout",
     "output_type": "stream",
     "text": [
      "float64\n"
     ]
    }
   ],
   "source": [
    "df_actuals_qty['algo_error_squared']=df_actuals_qty['algo_error_squared'].astype(\"float\")\n",
    "print(df_actuals_qty['algo_error_squared'].dtype)"
   ]
  },
  {
   "cell_type": "code",
   "execution_count": 82,
   "id": "6aff9aa4-516a-4dff-b5b0-7a4a3fc2c80f",
   "metadata": {},
   "outputs": [
    {
     "name": "stdout",
     "output_type": "stream",
     "text": [
      "float64\n"
     ]
    }
   ],
   "source": [
    "df_actuals_qty['prd_price']= df_actuals_qty['prd_price'].astype(\"float\")\n",
    "print(df_actuals_qty['prd_price'].dtype)"
   ]
  },
  {
   "cell_type": "code",
   "execution_count": 83,
   "id": "e0fb62a3-5324-4fe9-bc7d-b615607edab6",
   "metadata": {},
   "outputs": [
    {
     "name": "stdout",
     "output_type": "stream",
     "text": [
      "<class 'pandas.core.frame.DataFrame'>\n",
      "RangeIndex: 32317 entries, 0 to 32316\n",
      "Data columns (total 22 columns):\n",
      " #   Column               Non-Null Count  Dtype         \n",
      "---  ------               --------------  -----         \n",
      " 0   dates                32317 non-null  object        \n",
      " 1   loc_id               32317 non-null  object        \n",
      " 2   prd_id               32317 non-null  object        \n",
      " 3   actuals_qty          32317 non-null  float64       \n",
      " 4   prd_price            32317 non-null  float64       \n",
      " 5   currency_id          32317 non-null  object        \n",
      " 6   actuals_sales        32317 non-null  float64       \n",
      " 7   sales_forecast       0 non-null      float64       \n",
      " 8   currency_desc        32317 non-null  object        \n",
      " 9   location_details     32317 non-null  object        \n",
      " 10  loc_region           32317 non-null  object        \n",
      " 11  prd_desc             32317 non-null  object        \n",
      " 12  prd_size             32317 non-null  object        \n",
      " 13  prd_sku              32317 non-null  object        \n",
      " 14  prd_family           32317 non-null  object        \n",
      " 15  prd_seasons          32317 non-null  object        \n",
      " 16  holidays             32317 non-null  int64         \n",
      " 17  algorithm_forecast   0 non-null      object        \n",
      " 18  algo_error           0 non-null      float64       \n",
      " 19  algo_error_absolute  0 non-null      float64       \n",
      " 20  algo_error_squared   0 non-null      float64       \n",
      " 21  dwh_create_date      32317 non-null  datetime64[ns]\n",
      "dtypes: datetime64[ns](1), float64(7), int64(1), object(13)\n",
      "memory usage: 5.4+ MB\n"
     ]
    }
   ],
   "source": [
    "df_actuals_qty.info()"
   ]
  },
  {
   "cell_type": "code",
   "execution_count": 84,
   "id": "db658d8f-a8be-48d7-b7c2-5111cd2d91e5",
   "metadata": {},
   "outputs": [],
   "source": [
    "#label encoding"
   ]
  },
  {
   "cell_type": "code",
   "execution_count": 85,
   "id": "f90e550d-fb36-4822-82fe-3a6a3915ca10",
   "metadata": {},
   "outputs": [
    {
     "name": "stdout",
     "output_type": "stream",
     "text": [
      "            dates loc_id  prd_id  actuals_qty  prd_price currency_id  \\\n",
      "0      2023-01-07  10001  BNFJY5        864.0        2.5           1   \n",
      "1      2023-01-07  10001  CVINS1        648.0        8.5           1   \n",
      "2      2023-01-07  10001  CVINS2       1512.0        6.5           1   \n",
      "3      2023-01-07  10001  ERKYE7        270.0        2.9           1   \n",
      "4      2023-01-07  10001  LKUQW1        180.0       10.0           1   \n",
      "...           ...    ...     ...          ...        ...         ...   \n",
      "32312  2025-08-30  10011  WSDCV3        142.0        6.5           1   \n",
      "32313  2025-08-30  10011  ZDSGJ1        126.0       18.0           1   \n",
      "32314  2025-08-30  10011  ZDSGJ2        112.0       12.5           1   \n",
      "32315  2025-08-30  10011  ZDSGJ3        180.0        5.5           1   \n",
      "32316  2025-08-30  10011  ZDSGJ4        154.0        6.0           1   \n",
      "\n",
      "       actuals_sales  sales_forecast currency_desc  \\\n",
      "0             2592.0             NaN          Euro   \n",
      "1             5832.0             NaN          Euro   \n",
      "2            10584.0             NaN          Euro   \n",
      "3              810.0             NaN          Euro   \n",
      "4             1800.0             NaN          Euro   \n",
      "...              ...             ...           ...   \n",
      "32312          994.0             NaN          Euro   \n",
      "32313         2268.0             NaN          Euro   \n",
      "32314         1456.0             NaN          Euro   \n",
      "32315         1080.0             NaN          Euro   \n",
      "32316          924.0             NaN          Euro   \n",
      "\n",
      "                                     location_details  ...     prd_size  \\\n",
      "0      11 Rue du Moulin de la Tour, 62560 Dennebr�ucq  ...        50 cl   \n",
      "1      11 Rue du Moulin de la Tour, 62560 Dennebr�ucq  ...      1 glass   \n",
      "2      11 Rue du Moulin de la Tour, 62560 Dennebr�ucq  ...      1 glass   \n",
      "3      11 Rue du Moulin de la Tour, 62560 Dennebr�ucq  ...        50 cl   \n",
      "4      11 Rue du Moulin de la Tour, 62560 Dennebr�ucq  ...       1 bowl   \n",
      "...                                               ...  ...          ...   \n",
      "32312       Chem. de la Diligence, 13760 Saint-Cannat  ...       1 bowl   \n",
      "32313       Chem. de la Diligence, 13760 Saint-Cannat  ...  1 box -9 pc   \n",
      "32314       Chem. de la Diligence, 13760 Saint-Cannat  ...  1 box -9 pc   \n",
      "32315       Chem. de la Diligence, 13760 Saint-Cannat  ...  1 box -3 pc   \n",
      "32316       Chem. de la Diligence, 13760 Saint-Cannat  ...  1 box -3 pc   \n",
      "\n",
      "         prd_sku  prd_family prd_seasons holidays algorithm_forecast  \\\n",
      "0      SKU 90316   Beverages    All Year        1               None   \n",
      "1      SKU 90334  Milkshakes    All Year        1               None   \n",
      "2      SKU 90335  Milkshakes    All Year        1               None   \n",
      "3      SKU 90318   Beverages    All Year        1               None   \n",
      "4      SKU 90322    Desserts    All Year        1               None   \n",
      "...          ...         ...         ...      ...                ...   \n",
      "32312  SKU 90321    Desserts      Summer        0               None   \n",
      "32313  SKU 90324    Desserts    All Year        0               None   \n",
      "32314  SKU 90325    Desserts    All Year        0               None   \n",
      "32315  SKU 90326    Desserts    All Year        0               None   \n",
      "32316  SKU 90327    Desserts    All Year        0               None   \n",
      "\n",
      "       algo_error algo_error_absolute  algo_error_squared  \\\n",
      "0             NaN                 NaN                 NaN   \n",
      "1             NaN                 NaN                 NaN   \n",
      "2             NaN                 NaN                 NaN   \n",
      "3             NaN                 NaN                 NaN   \n",
      "4             NaN                 NaN                 NaN   \n",
      "...           ...                 ...                 ...   \n",
      "32312         NaN                 NaN                 NaN   \n",
      "32313         NaN                 NaN                 NaN   \n",
      "32314         NaN                 NaN                 NaN   \n",
      "32315         NaN                 NaN                 NaN   \n",
      "32316         NaN                 NaN                 NaN   \n",
      "\n",
      "              dwh_create_date  \n",
      "0     2025-09-24 18:13:31.970  \n",
      "1     2025-09-24 18:13:31.970  \n",
      "2     2025-09-24 18:13:31.970  \n",
      "3     2025-09-24 18:13:31.970  \n",
      "4     2025-09-24 18:13:31.970  \n",
      "...                       ...  \n",
      "32312 2025-09-24 18:13:31.970  \n",
      "32313 2025-09-24 18:13:31.970  \n",
      "32314 2025-09-24 18:13:31.970  \n",
      "32315 2025-09-24 18:13:31.970  \n",
      "32316 2025-09-24 18:13:31.970  \n",
      "\n",
      "[32317 rows x 22 columns]\n"
     ]
    }
   ],
   "source": [
    "df_actuals_info = df_actuals_qty\n",
    "print(df_actuals_info)"
   ]
  },
  {
   "cell_type": "code",
   "execution_count": 86,
   "id": "cbf2ade5-ba84-48f2-a2a9-c37404a5c2d7",
   "metadata": {},
   "outputs": [
    {
     "name": "stdout",
     "output_type": "stream",
     "text": [
      " Le Label Encoder est chargé\n"
     ]
    }
   ],
   "source": [
    "from sklearn.preprocessing import LabelEncoder\n",
    "print(\" Le Label Encoder est chargé\")"
   ]
  },
  {
   "cell_type": "code",
   "execution_count": 87,
   "id": "f3de972b-ea48-4b7a-b321-64cacf7dd3eb",
   "metadata": {},
   "outputs": [
    {
     "data": {
      "text/plain": [
       "array(['All Year', 'Winter', 'Summer'], dtype=object)"
      ]
     },
     "execution_count": 87,
     "metadata": {},
     "output_type": "execute_result"
    }
   ],
   "source": [
    "df_actuals_info['prd_seasons'].unique()"
   ]
  },
  {
   "cell_type": "code",
   "execution_count": 88,
   "id": "46d846a4-88f5-4393-8067-bdcf585c9de9",
   "metadata": {},
   "outputs": [],
   "source": [
    "df_actuals_info['prd_seasons_grp']= LabelEncoder().fit_transform(df_actuals_info['prd_seasons'])"
   ]
  },
  {
   "cell_type": "code",
   "execution_count": 89,
   "id": "cb2cd398-d3c1-4aa1-871f-4182d9119e0a",
   "metadata": {},
   "outputs": [
    {
     "data": {
      "text/plain": [
       "prd_seasons_grp\n",
       "0    27522\n",
       "1     2640\n",
       "2     2155\n",
       "Name: count, dtype: int64"
      ]
     },
     "execution_count": 89,
     "metadata": {},
     "output_type": "execute_result"
    }
   ],
   "source": [
    "df_actuals_info['prd_seasons_grp'].value_counts()"
   ]
  },
  {
   "cell_type": "code",
   "execution_count": 90,
   "id": "30b3ee1a-fb40-4efb-bb86-4216d24ba04b",
   "metadata": {},
   "outputs": [
    {
     "data": {
      "text/html": [
       "<div>\n",
       "<style scoped>\n",
       "    .dataframe tbody tr th:only-of-type {\n",
       "        vertical-align: middle;\n",
       "    }\n",
       "\n",
       "    .dataframe tbody tr th {\n",
       "        vertical-align: top;\n",
       "    }\n",
       "\n",
       "    .dataframe thead th {\n",
       "        text-align: right;\n",
       "    }\n",
       "</style>\n",
       "<table border=\"1\" class=\"dataframe\">\n",
       "  <thead>\n",
       "    <tr style=\"text-align: right;\">\n",
       "      <th></th>\n",
       "      <th>dates</th>\n",
       "      <th>loc_id</th>\n",
       "      <th>prd_id</th>\n",
       "      <th>actuals_qty</th>\n",
       "      <th>prd_price</th>\n",
       "      <th>currency_id</th>\n",
       "      <th>actuals_sales</th>\n",
       "      <th>sales_forecast</th>\n",
       "      <th>currency_desc</th>\n",
       "      <th>location_details</th>\n",
       "      <th>...</th>\n",
       "      <th>prd_sku</th>\n",
       "      <th>prd_family</th>\n",
       "      <th>prd_seasons</th>\n",
       "      <th>holidays</th>\n",
       "      <th>algorithm_forecast</th>\n",
       "      <th>algo_error</th>\n",
       "      <th>algo_error_absolute</th>\n",
       "      <th>algo_error_squared</th>\n",
       "      <th>dwh_create_date</th>\n",
       "      <th>prd_seasons_grp</th>\n",
       "    </tr>\n",
       "  </thead>\n",
       "  <tbody>\n",
       "    <tr>\n",
       "      <th>0</th>\n",
       "      <td>2023-01-07</td>\n",
       "      <td>10001</td>\n",
       "      <td>BNFJY5</td>\n",
       "      <td>864.0</td>\n",
       "      <td>2.5</td>\n",
       "      <td>1</td>\n",
       "      <td>2592.0</td>\n",
       "      <td>NaN</td>\n",
       "      <td>Euro</td>\n",
       "      <td>11 Rue du Moulin de la Tour, 62560 Dennebr�ucq</td>\n",
       "      <td>...</td>\n",
       "      <td>SKU 90316</td>\n",
       "      <td>Beverages</td>\n",
       "      <td>All Year</td>\n",
       "      <td>1</td>\n",
       "      <td>None</td>\n",
       "      <td>NaN</td>\n",
       "      <td>NaN</td>\n",
       "      <td>NaN</td>\n",
       "      <td>2025-09-24 18:13:31.970</td>\n",
       "      <td>0</td>\n",
       "    </tr>\n",
       "    <tr>\n",
       "      <th>1</th>\n",
       "      <td>2023-01-07</td>\n",
       "      <td>10001</td>\n",
       "      <td>CVINS1</td>\n",
       "      <td>648.0</td>\n",
       "      <td>8.5</td>\n",
       "      <td>1</td>\n",
       "      <td>5832.0</td>\n",
       "      <td>NaN</td>\n",
       "      <td>Euro</td>\n",
       "      <td>11 Rue du Moulin de la Tour, 62560 Dennebr�ucq</td>\n",
       "      <td>...</td>\n",
       "      <td>SKU 90334</td>\n",
       "      <td>Milkshakes</td>\n",
       "      <td>All Year</td>\n",
       "      <td>1</td>\n",
       "      <td>None</td>\n",
       "      <td>NaN</td>\n",
       "      <td>NaN</td>\n",
       "      <td>NaN</td>\n",
       "      <td>2025-09-24 18:13:31.970</td>\n",
       "      <td>0</td>\n",
       "    </tr>\n",
       "    <tr>\n",
       "      <th>2</th>\n",
       "      <td>2023-01-07</td>\n",
       "      <td>10001</td>\n",
       "      <td>CVINS2</td>\n",
       "      <td>1512.0</td>\n",
       "      <td>6.5</td>\n",
       "      <td>1</td>\n",
       "      <td>10584.0</td>\n",
       "      <td>NaN</td>\n",
       "      <td>Euro</td>\n",
       "      <td>11 Rue du Moulin de la Tour, 62560 Dennebr�ucq</td>\n",
       "      <td>...</td>\n",
       "      <td>SKU 90335</td>\n",
       "      <td>Milkshakes</td>\n",
       "      <td>All Year</td>\n",
       "      <td>1</td>\n",
       "      <td>None</td>\n",
       "      <td>NaN</td>\n",
       "      <td>NaN</td>\n",
       "      <td>NaN</td>\n",
       "      <td>2025-09-24 18:13:31.970</td>\n",
       "      <td>0</td>\n",
       "    </tr>\n",
       "    <tr>\n",
       "      <th>3</th>\n",
       "      <td>2023-01-07</td>\n",
       "      <td>10001</td>\n",
       "      <td>ERKYE7</td>\n",
       "      <td>270.0</td>\n",
       "      <td>2.9</td>\n",
       "      <td>1</td>\n",
       "      <td>810.0</td>\n",
       "      <td>NaN</td>\n",
       "      <td>Euro</td>\n",
       "      <td>11 Rue du Moulin de la Tour, 62560 Dennebr�ucq</td>\n",
       "      <td>...</td>\n",
       "      <td>SKU 90318</td>\n",
       "      <td>Beverages</td>\n",
       "      <td>All Year</td>\n",
       "      <td>1</td>\n",
       "      <td>None</td>\n",
       "      <td>NaN</td>\n",
       "      <td>NaN</td>\n",
       "      <td>NaN</td>\n",
       "      <td>2025-09-24 18:13:31.970</td>\n",
       "      <td>0</td>\n",
       "    </tr>\n",
       "    <tr>\n",
       "      <th>4</th>\n",
       "      <td>2023-01-07</td>\n",
       "      <td>10001</td>\n",
       "      <td>LKUQW1</td>\n",
       "      <td>180.0</td>\n",
       "      <td>10.0</td>\n",
       "      <td>1</td>\n",
       "      <td>1800.0</td>\n",
       "      <td>NaN</td>\n",
       "      <td>Euro</td>\n",
       "      <td>11 Rue du Moulin de la Tour, 62560 Dennebr�ucq</td>\n",
       "      <td>...</td>\n",
       "      <td>SKU 90322</td>\n",
       "      <td>Desserts</td>\n",
       "      <td>All Year</td>\n",
       "      <td>1</td>\n",
       "      <td>None</td>\n",
       "      <td>NaN</td>\n",
       "      <td>NaN</td>\n",
       "      <td>NaN</td>\n",
       "      <td>2025-09-24 18:13:31.970</td>\n",
       "      <td>0</td>\n",
       "    </tr>\n",
       "  </tbody>\n",
       "</table>\n",
       "<p>5 rows × 23 columns</p>\n",
       "</div>"
      ],
      "text/plain": [
       "        dates loc_id  prd_id  actuals_qty  prd_price currency_id  \\\n",
       "0  2023-01-07  10001  BNFJY5        864.0        2.5           1   \n",
       "1  2023-01-07  10001  CVINS1        648.0        8.5           1   \n",
       "2  2023-01-07  10001  CVINS2       1512.0        6.5           1   \n",
       "3  2023-01-07  10001  ERKYE7        270.0        2.9           1   \n",
       "4  2023-01-07  10001  LKUQW1        180.0       10.0           1   \n",
       "\n",
       "   actuals_sales  sales_forecast currency_desc  \\\n",
       "0         2592.0             NaN          Euro   \n",
       "1         5832.0             NaN          Euro   \n",
       "2        10584.0             NaN          Euro   \n",
       "3          810.0             NaN          Euro   \n",
       "4         1800.0             NaN          Euro   \n",
       "\n",
       "                                 location_details  ...    prd_sku  prd_family  \\\n",
       "0  11 Rue du Moulin de la Tour, 62560 Dennebr�ucq  ...  SKU 90316   Beverages   \n",
       "1  11 Rue du Moulin de la Tour, 62560 Dennebr�ucq  ...  SKU 90334  Milkshakes   \n",
       "2  11 Rue du Moulin de la Tour, 62560 Dennebr�ucq  ...  SKU 90335  Milkshakes   \n",
       "3  11 Rue du Moulin de la Tour, 62560 Dennebr�ucq  ...  SKU 90318   Beverages   \n",
       "4  11 Rue du Moulin de la Tour, 62560 Dennebr�ucq  ...  SKU 90322    Desserts   \n",
       "\n",
       "  prd_seasons holidays algorithm_forecast algo_error  algo_error_absolute  \\\n",
       "0    All Year        1               None        NaN                  NaN   \n",
       "1    All Year        1               None        NaN                  NaN   \n",
       "2    All Year        1               None        NaN                  NaN   \n",
       "3    All Year        1               None        NaN                  NaN   \n",
       "4    All Year        1               None        NaN                  NaN   \n",
       "\n",
       "  algo_error_squared         dwh_create_date  prd_seasons_grp  \n",
       "0                NaN 2025-09-24 18:13:31.970                0  \n",
       "1                NaN 2025-09-24 18:13:31.970                0  \n",
       "2                NaN 2025-09-24 18:13:31.970                0  \n",
       "3                NaN 2025-09-24 18:13:31.970                0  \n",
       "4                NaN 2025-09-24 18:13:31.970                0  \n",
       "\n",
       "[5 rows x 23 columns]"
      ]
     },
     "execution_count": 90,
     "metadata": {},
     "output_type": "execute_result"
    }
   ],
   "source": [
    "df_actuals_info.head()"
   ]
  },
  {
   "cell_type": "code",
   "execution_count": null,
   "id": "82daaa9c-96cb-4ae1-abe7-d87f886b6187",
   "metadata": {},
   "outputs": [],
   "source": [
    "# les valeurs NULL"
   ]
  },
  {
   "cell_type": "code",
   "execution_count": 93,
   "id": "60f903ef-631d-4e2e-b24b-95e9055ef27a",
   "metadata": {},
   "outputs": [
    {
     "data": {
      "text/plain": [
       "dates            0\n",
       "loc_id           0\n",
       "prd_id           0\n",
       "currency_desc    0\n",
       "dtype: int64"
      ]
     },
     "execution_count": 93,
     "metadata": {},
     "output_type": "execute_result"
    }
   ],
   "source": [
    "df_actuals_info[['dates','loc_id','prd_id', 'currency_desc']].isnull().sum()"
   ]
  }
 ],
 "metadata": {
  "kernelspec": {
   "display_name": "Python 3 (ipykernel)",
   "language": "python",
   "name": "python3"
  },
  "language_info": {
   "codemirror_mode": {
    "name": "ipython",
    "version": 3
   },
   "file_extension": ".py",
   "mimetype": "text/x-python",
   "name": "python",
   "nbconvert_exporter": "python",
   "pygments_lexer": "ipython3",
   "version": "3.10.11"
  }
 },
 "nbformat": 4,
 "nbformat_minor": 5
}
